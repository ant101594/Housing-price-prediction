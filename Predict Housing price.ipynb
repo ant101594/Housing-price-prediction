{
 "cells": [
  {
   "cell_type": "markdown",
   "metadata": {},
   "source": [
    "# Predict Housing Prices (Basic)"
   ]
  },
  {
   "cell_type": "markdown",
   "metadata": {},
   "source": [
    "Data Set hosing.csv \n",
    "\n",
    "The descriptions of the variables are below.\n",
    "\n",
    "1. longitude: A measure of how far west a house is; a higher value is farther west\n",
    "2. latitude: A measure of how far north a house is; a higher value is farther north\n",
    "3. housingMedianAge: Median age of a house within a block; a lower number is a newer building\n",
    "4. totalRooms: Total number of rooms within a block\n",
    "5. totalBedrooms: Total number of bedrooms within a block\n",
    "6. population: Total number of people residing within a block\n",
    "7. households: Total number of households, a group of people residing within a home unit, for a block \n",
    "8. medianIncome: Median income for households within a block of houses (measured in tens of thousands of US Dollars)\n",
    "9. medianHouseValue: Median house value for households within a block (measured in US Dollars) \n",
    "10. oceanProximity: Location of the house w.r.t ocean/sea "
   ]
  },
  {
   "cell_type": "markdown",
   "metadata": {},
   "source": [
    "# Import library and clean data"
   ]
  },
  {
   "cell_type": "code",
   "execution_count": 25,
   "metadata": {},
   "outputs": [
    {
     "data": {
      "text/html": [
       "<div>\n",
       "<style scoped>\n",
       "    .dataframe tbody tr th:only-of-type {\n",
       "        vertical-align: middle;\n",
       "    }\n",
       "\n",
       "    .dataframe tbody tr th {\n",
       "        vertical-align: top;\n",
       "    }\n",
       "\n",
       "    .dataframe thead th {\n",
       "        text-align: right;\n",
       "    }\n",
       "</style>\n",
       "<table border=\"1\" class=\"dataframe\">\n",
       "  <thead>\n",
       "    <tr style=\"text-align: right;\">\n",
       "      <th></th>\n",
       "      <th>longitude</th>\n",
       "      <th>latitude</th>\n",
       "      <th>housing_median_age</th>\n",
       "      <th>total_rooms</th>\n",
       "      <th>total_bedrooms</th>\n",
       "      <th>population</th>\n",
       "      <th>households</th>\n",
       "      <th>median_income</th>\n",
       "      <th>median_house_value</th>\n",
       "    </tr>\n",
       "  </thead>\n",
       "  <tbody>\n",
       "    <tr>\n",
       "      <th>0</th>\n",
       "      <td>-122.23</td>\n",
       "      <td>37.88</td>\n",
       "      <td>41.0</td>\n",
       "      <td>880.0</td>\n",
       "      <td>129.0</td>\n",
       "      <td>322.0</td>\n",
       "      <td>126.0</td>\n",
       "      <td>8.3252</td>\n",
       "      <td>452600.0</td>\n",
       "    </tr>\n",
       "    <tr>\n",
       "      <th>1</th>\n",
       "      <td>-122.22</td>\n",
       "      <td>37.86</td>\n",
       "      <td>21.0</td>\n",
       "      <td>7099.0</td>\n",
       "      <td>1106.0</td>\n",
       "      <td>2401.0</td>\n",
       "      <td>1138.0</td>\n",
       "      <td>8.3014</td>\n",
       "      <td>358500.0</td>\n",
       "    </tr>\n",
       "    <tr>\n",
       "      <th>2</th>\n",
       "      <td>-122.24</td>\n",
       "      <td>37.85</td>\n",
       "      <td>52.0</td>\n",
       "      <td>1467.0</td>\n",
       "      <td>190.0</td>\n",
       "      <td>496.0</td>\n",
       "      <td>177.0</td>\n",
       "      <td>7.2574</td>\n",
       "      <td>352100.0</td>\n",
       "    </tr>\n",
       "  </tbody>\n",
       "</table>\n",
       "</div>"
      ],
      "text/plain": [
       "   longitude  latitude  housing_median_age  total_rooms  total_bedrooms  \\\n",
       "0    -122.23     37.88                41.0        880.0           129.0   \n",
       "1    -122.22     37.86                21.0       7099.0          1106.0   \n",
       "2    -122.24     37.85                52.0       1467.0           190.0   \n",
       "\n",
       "   population  households  median_income  median_house_value  \n",
       "0       322.0       126.0         8.3252            452600.0  \n",
       "1      2401.0      1138.0         8.3014            358500.0  \n",
       "2       496.0       177.0         7.2574            352100.0  "
      ]
     },
     "execution_count": 25,
     "metadata": {},
     "output_type": "execute_result"
    }
   ],
   "source": [
    "import pandas as pd\n",
    "import numpy as np\n",
    "import matplotlib.pyplot as plt\n",
    "from sklearn.model_selection import train_test_split\n",
    "from sklearn.linear_model import LinearRegression\n",
    "from sklearn.metrics import r2_score, mean_squared_error\n",
    "from sklearn.ensemble import RandomForestRegressor\n",
    "\n",
    "df = pd.read_csv(\"housing.csv\")\n",
    "df = df.drop(['ocean_proximity'], axis=1)\n",
    "df.head(3)\n",
    "df['total_bedrooms'].isnull().any()\n",
    "#df['total_bedrooms'].describe()\n",
    "#df['total_bedrooms'].isnull().sum()\n",
    "mean = df['total_bedrooms'].mean()\n",
    "df['total_bedrooms'].fillna(mean,inplace=True)\n",
    "df['total_bedrooms'].isnull().any()\n",
    "#df['total_bedrooms'].describe()\n",
    "df.isnull().any()\n",
    "df.head(3)"
   ]
  },
  {
   "cell_type": "code",
   "execution_count": 29,
   "metadata": {},
   "outputs": [
    {
     "name": "stdout",
     "output_type": "stream",
     "text": [
      "(14448, 8) (6192, 8) (14448,) (6192,)\n"
     ]
    }
   ],
   "source": [
    "# Split data into train set (70%) and test set (30%)\n",
    "\n",
    "X_train, X_test, y_train, y_test = train_test_split(df.iloc[:,:8], df['median_house_value'], test_size=0.3, \n",
    "                                                    random_state = 446)\n",
    "\n",
    "print(X_train.shape, X_test.shape, y_train.shape, y_test.shape)"
   ]
  },
  {
   "cell_type": "code",
   "execution_count": 6,
   "metadata": {},
   "outputs": [],
   "source": [
    "#from sklearn.preprocessing import StandardScaler\n",
    "#scaler = StandardScaler()\n",
    "#X_train = scaler.fit_transform(X_train)\n",
    "#X_test = scaler.transform(X_test)"
   ]
  },
  {
   "cell_type": "markdown",
   "metadata": {},
   "source": [
    "# Linear Regression"
   ]
  },
  {
   "cell_type": "code",
   "execution_count": 30,
   "metadata": {},
   "outputs": [
    {
     "data": {
      "text/plain": [
       "LinearRegression()"
      ]
     },
     "execution_count": 30,
     "metadata": {},
     "output_type": "execute_result"
    }
   ],
   "source": [
    "model = LinearRegression()\n",
    "model.fit(X_train, y_train)"
   ]
  },
  {
   "cell_type": "code",
   "execution_count": 31,
   "metadata": {},
   "outputs": [
    {
     "name": "stdout",
     "output_type": "stream",
     "text": [
      "intercept :  -3540544.020236356\n"
     ]
    },
    {
     "data": {
      "text/html": [
       "<div>\n",
       "<style scoped>\n",
       "    .dataframe tbody tr th:only-of-type {\n",
       "        vertical-align: middle;\n",
       "    }\n",
       "\n",
       "    .dataframe tbody tr th {\n",
       "        vertical-align: top;\n",
       "    }\n",
       "\n",
       "    .dataframe thead th {\n",
       "        text-align: right;\n",
       "    }\n",
       "</style>\n",
       "<table border=\"1\" class=\"dataframe\">\n",
       "  <thead>\n",
       "    <tr style=\"text-align: right;\">\n",
       "      <th></th>\n",
       "      <th>features</th>\n",
       "      <th>coef</th>\n",
       "    </tr>\n",
       "  </thead>\n",
       "  <tbody>\n",
       "    <tr>\n",
       "      <th>0</th>\n",
       "      <td>longitude</td>\n",
       "      <td>-42388.997119</td>\n",
       "    </tr>\n",
       "    <tr>\n",
       "      <th>1</th>\n",
       "      <td>latitude</td>\n",
       "      <td>-42434.419383</td>\n",
       "    </tr>\n",
       "    <tr>\n",
       "      <th>2</th>\n",
       "      <td>housing_median_age</td>\n",
       "      <td>1084.745115</td>\n",
       "    </tr>\n",
       "    <tr>\n",
       "      <th>3</th>\n",
       "      <td>total_rooms</td>\n",
       "      <td>-5.049680</td>\n",
       "    </tr>\n",
       "    <tr>\n",
       "      <th>4</th>\n",
       "      <td>total_bedrooms</td>\n",
       "      <td>71.125947</td>\n",
       "    </tr>\n",
       "    <tr>\n",
       "      <th>5</th>\n",
       "      <td>population</td>\n",
       "      <td>-45.283333</td>\n",
       "    </tr>\n",
       "    <tr>\n",
       "      <th>6</th>\n",
       "      <td>households</td>\n",
       "      <td>95.127687</td>\n",
       "    </tr>\n",
       "    <tr>\n",
       "      <th>7</th>\n",
       "      <td>median_income</td>\n",
       "      <td>39184.354073</td>\n",
       "    </tr>\n",
       "  </tbody>\n",
       "</table>\n",
       "</div>"
      ],
      "text/plain": [
       "             features          coef\n",
       "0           longitude -42388.997119\n",
       "1            latitude -42434.419383\n",
       "2  housing_median_age   1084.745115\n",
       "3         total_rooms     -5.049680\n",
       "4      total_bedrooms     71.125947\n",
       "5          population    -45.283333\n",
       "6          households     95.127687\n",
       "7       median_income  39184.354073"
      ]
     },
     "execution_count": 31,
     "metadata": {},
     "output_type": "execute_result"
    }
   ],
   "source": [
    "print(\"intercept : \", model.intercept_)\n",
    "coef = pd.DataFrame(list(zip(df.iloc[:,:8], model.coef_)))\n",
    "coef.columns = ['features', 'coef']\n",
    "coef"
   ]
  },
  {
   "cell_type": "markdown",
   "metadata": {},
   "source": [
    "Fitted model\n",
    "\n",
    "Median house value = -3,540,544 - 42,389(longitude) - 42,434(latitude) + 1085(housing median age) - 5(total rooms) + 71(total bedrooms) - 45(population) + 95(households) + 39,184(median income)"
   ]
  },
  {
   "cell_type": "markdown",
   "metadata": {},
   "source": [
    "#################################################################################################################"
   ]
  },
  {
   "cell_type": "markdown",
   "metadata": {},
   "source": [
    "Interpret the coefficients for “housing_median_age” and “median_income”\n",
    "\n",
    "Interpret housing median age : \n",
    "\n",
    "Housing median age has positive impacts on median house value, implying that the higher housing median age is, the higher median house value will be. \n",
    "\n",
    "Coef = 1085 => As the housing median age increase 1 unit, the median house value will be increased by 1085 unit(US Dollars), holding the other features constant.\n",
    "\n",
    "\n",
    "\n",
    "Interpret median_income : \n",
    "\n",
    "Median income has positive impacts on median house value, implying that the higher median income is, the higher median house value will be. \n",
    "\n",
    "Coef = 39184 => As the median income increase 1 unit(tens of thousands of US Dollars), the median house value will be increased by 39184 unit(US Dollars), holding the other features constant. \n",
    "\n",
    "Convert to the same unit(US Dollars) : As the median income increase 1 unit(US Dollars), the median house value will be increased by 391.84 unit(US Dollars), holding the other features constant.\n"
   ]
  },
  {
   "cell_type": "markdown",
   "metadata": {},
   "source": [
    "#################################################################################################################"
   ]
  },
  {
   "cell_type": "markdown",
   "metadata": {},
   "source": [
    "Predict a housing price for a house with longtitude=-200, latitude=40,\n",
    "housing_median_age=10, total_rooms=1500, total_bedrooms = 400, population=1000,\n",
    "households = 500, and median_income = 3.5 "
   ]
  },
  {
   "cell_type": "code",
   "execution_count": 33,
   "metadata": {},
   "outputs": [
    {
     "name": "stdout",
     "output_type": "stream",
     "text": [
      "[3411027.68695518]\n"
     ]
    }
   ],
   "source": [
    "new_data = pd.DataFrame({'longtitude':[-200], 'latitude':[40],'housing_median_age':[10],\n",
    "                         'total_rooms':[1500],'total_bedrooms ':[400], 'population':[1000],\n",
    "                        'households':[500],'median_income':[3.5]})\n",
    "\n",
    "\n",
    "new_data\n",
    "print(model.predict(new_data))"
   ]
  },
  {
   "cell_type": "markdown",
   "metadata": {},
   "source": [
    "A housing median price for a house with longtitude=-200, latitude=40,\n",
    "housing_median_age=10, total_rooms=1500, total_bedrooms = 400, population=1000,\n",
    "households = 500, and median_income = 3.5 is 3411028 US dollars"
   ]
  },
  {
   "cell_type": "markdown",
   "metadata": {},
   "source": [
    "#################################################################################################################"
   ]
  },
  {
   "cell_type": "markdown",
   "metadata": {},
   "source": [
    "Evaluate a linear regression model performance"
   ]
  },
  {
   "cell_type": "code",
   "execution_count": 34,
   "metadata": {},
   "outputs": [
    {
     "name": "stdout",
     "output_type": "stream",
     "text": [
      "Linear model RMSE (test) :71418.93039796817\n",
      "R2 score (test) :0.41721926120347974\n"
     ]
    }
   ],
   "source": [
    "y_pred = model.predict(X_test)\n",
    "rmse_test = mean_squared_error(y_pred, y_test)**0.5\n",
    "print(\"Linear model RMSE (test) :\" + str(rmse_test))\n",
    "print(\"R2 score (test) :\" + str(r2_score(y_pred, y_test)))"
   ]
  },
  {
   "cell_type": "markdown",
   "metadata": {},
   "source": [
    "# Random Forest"
   ]
  },
  {
   "cell_type": "code",
   "execution_count": 35,
   "metadata": {},
   "outputs": [
    {
     "data": {
      "text/plain": [
       "RandomForestRegressor(random_state=112)"
      ]
     },
     "execution_count": 35,
     "metadata": {},
     "output_type": "execute_result"
    }
   ],
   "source": [
    "forest_model = RandomForestRegressor(random_state=112)\n",
    "forest_model.fit(X_train, y_train)"
   ]
  },
  {
   "cell_type": "markdown",
   "metadata": {},
   "source": [
    "a. Predict a housing price for a house with longtitude=-200, latitude=40,\n",
    "housing_median_age=10, total_rooms=1500, total_bedrooms = 400, population=1000,\n",
    "households = 500, and median_income = 3.5 \\"
   ]
  },
  {
   "cell_type": "code",
   "execution_count": 36,
   "metadata": {},
   "outputs": [
    {
     "data": {
      "text/plain": [
       "array([113665.])"
      ]
     },
     "execution_count": 36,
     "metadata": {},
     "output_type": "execute_result"
    }
   ],
   "source": [
    "forest_model.predict(new_data)"
   ]
  },
  {
   "cell_type": "markdown",
   "metadata": {},
   "source": [
    "A housing median price for a house with longtitude=-200, latitude=40,\n",
    "housing_median_age=10, total_rooms=1500, total_bedrooms = 400, population=1000,\n",
    "households = 500, and median_income = 3.5 is 113665 US dollars"
   ]
  },
  {
   "cell_type": "markdown",
   "metadata": {},
   "source": [
    "#################################################################################################################"
   ]
  },
  {
   "cell_type": "markdown",
   "metadata": {},
   "source": [
    "Evaluate model performance and compare the model’s performance with a linear\n",
    "regression model"
   ]
  },
  {
   "cell_type": "code",
   "execution_count": 13,
   "metadata": {},
   "outputs": [
    {
     "name": "stdout",
     "output_type": "stream",
     "text": [
      "Random Forest model RMSE (test) :50200.918804000416\n",
      "R2 score (test) :0.7614661750168823\n"
     ]
    }
   ],
   "source": [
    "y_forest_pred = forest_model.predict(X_test)\n",
    "rmse_forest_test = mean_squared_error(y_forest_pred, y_test)**0.5\n",
    "print(\"Random Forest model RMSE (test) :\" + str(rmse_forest_test))\n",
    "print(\"R2 score (test) :\" + str(r2_score(y_forest_pred, y_test)))"
   ]
  },
  {
   "cell_type": "markdown",
   "metadata": {},
   "source": [
    "Random Forest model RMSE is 50200 US Dollars and R2 is 76.14%\n",
    "\n",
    "Linear regression model RMSE is 71418 US Dollars and R2 is 41.72%\n",
    "\n",
    "Random Forest model has better performance than Linear regression model due to lower RMSE and higher R2 score.\n"
   ]
  },
  {
   "cell_type": "code",
   "execution_count": 83,
   "metadata": {},
   "outputs": [
    {
     "data": {
      "image/png": "[encoded data removed]",
      "text/plain": [
       "<Figure size 432x288 with 1 Axes>"
      ]
     },
     "metadata": {
      "needs_background": "light"
     },
     "output_type": "display_data"
    }
   ],
   "source": [
    "forest_model.feature_importances_\n",
    "sort  = forest_model.feature_importances_.argsort()\n",
    "plt.barh(X_train.columns[sort], forest_model.feature_importances_[sort],color='Pink')\n",
    "plt.xlabel(\"Features importances\")\n",
    "plt.title(\"Feature importance for predict housing price\")\n",
    "#plt.grid()\n",
    "plt.show()"
   ]
  },
  {
   "cell_type": "markdown",
   "metadata": {},
   "source": [
    "# Adding more features"
   ]
  },
  {
   "cell_type": "markdown",
   "metadata": {},
   "source": [
    "Create more features to improve model’s performance"
   ]
  },
  {
   "cell_type": "code",
   "execution_count": 14,
   "metadata": {},
   "outputs": [
    {
     "data": {
      "text/html": [
       "<div>\n",
       "<style scoped>\n",
       "    .dataframe tbody tr th:only-of-type {\n",
       "        vertical-align: middle;\n",
       "    }\n",
       "\n",
       "    .dataframe tbody tr th {\n",
       "        vertical-align: top;\n",
       "    }\n",
       "\n",
       "    .dataframe thead th {\n",
       "        text-align: right;\n",
       "    }\n",
       "</style>\n",
       "<table border=\"1\" class=\"dataframe\">\n",
       "  <thead>\n",
       "    <tr style=\"text-align: right;\">\n",
       "      <th></th>\n",
       "      <th>longitude</th>\n",
       "      <th>latitude</th>\n",
       "      <th>housing_median_age</th>\n",
       "      <th>total_rooms</th>\n",
       "      <th>total_bedrooms</th>\n",
       "      <th>population</th>\n",
       "      <th>households</th>\n",
       "      <th>median_income</th>\n",
       "      <th>median_house_value</th>\n",
       "    </tr>\n",
       "  </thead>\n",
       "  <tbody>\n",
       "    <tr>\n",
       "      <th>0</th>\n",
       "      <td>-122.23</td>\n",
       "      <td>37.88</td>\n",
       "      <td>41.0</td>\n",
       "      <td>880.0</td>\n",
       "      <td>129.0</td>\n",
       "      <td>322.0</td>\n",
       "      <td>126.0</td>\n",
       "      <td>8.3252</td>\n",
       "      <td>452600.0</td>\n",
       "    </tr>\n",
       "    <tr>\n",
       "      <th>1</th>\n",
       "      <td>-122.22</td>\n",
       "      <td>37.86</td>\n",
       "      <td>21.0</td>\n",
       "      <td>7099.0</td>\n",
       "      <td>1106.0</td>\n",
       "      <td>2401.0</td>\n",
       "      <td>1138.0</td>\n",
       "      <td>8.3014</td>\n",
       "      <td>358500.0</td>\n",
       "    </tr>\n",
       "    <tr>\n",
       "      <th>2</th>\n",
       "      <td>-122.24</td>\n",
       "      <td>37.85</td>\n",
       "      <td>52.0</td>\n",
       "      <td>1467.0</td>\n",
       "      <td>190.0</td>\n",
       "      <td>496.0</td>\n",
       "      <td>177.0</td>\n",
       "      <td>7.2574</td>\n",
       "      <td>352100.0</td>\n",
       "    </tr>\n",
       "  </tbody>\n",
       "</table>\n",
       "</div>"
      ],
      "text/plain": [
       "   longitude  latitude  housing_median_age  total_rooms  total_bedrooms  \\\n",
       "0    -122.23     37.88                41.0        880.0           129.0   \n",
       "1    -122.22     37.86                21.0       7099.0          1106.0   \n",
       "2    -122.24     37.85                52.0       1467.0           190.0   \n",
       "\n",
       "   population  households  median_income  median_house_value  \n",
       "0       322.0       126.0         8.3252            452600.0  \n",
       "1      2401.0      1138.0         8.3014            358500.0  \n",
       "2       496.0       177.0         7.2574            352100.0  "
      ]
     },
     "execution_count": 14,
     "metadata": {},
     "output_type": "execute_result"
    }
   ],
   "source": [
    "df.head(3)"
   ]
  },
  {
   "cell_type": "code",
   "execution_count": 84,
   "metadata": {},
   "outputs": [
    {
     "data": {
      "text/html": [
       "<div>\n",
       "<style scoped>\n",
       "    .dataframe tbody tr th:only-of-type {\n",
       "        vertical-align: middle;\n",
       "    }\n",
       "\n",
       "    .dataframe tbody tr th {\n",
       "        vertical-align: top;\n",
       "    }\n",
       "\n",
       "    .dataframe thead th {\n",
       "        text-align: right;\n",
       "    }\n",
       "</style>\n",
       "<table border=\"1\" class=\"dataframe\">\n",
       "  <thead>\n",
       "    <tr style=\"text-align: right;\">\n",
       "      <th></th>\n",
       "      <th>longitude</th>\n",
       "      <th>latitude</th>\n",
       "      <th>housing_median_age</th>\n",
       "      <th>total_rooms</th>\n",
       "      <th>total_bedrooms</th>\n",
       "      <th>population</th>\n",
       "      <th>households</th>\n",
       "      <th>median_income</th>\n",
       "      <th>houses/pop</th>\n",
       "      <th>bedrooms/pop</th>\n",
       "      <th>non_bedrooms</th>\n",
       "      <th>rooms/houses</th>\n",
       "      <th>bedrooms/houses</th>\n",
       "    </tr>\n",
       "  </thead>\n",
       "  <tbody>\n",
       "    <tr>\n",
       "      <th>16980</th>\n",
       "      <td>-122.30</td>\n",
       "      <td>37.57</td>\n",
       "      <td>36.0</td>\n",
       "      <td>2406.0</td>\n",
       "      <td>436.0</td>\n",
       "      <td>1189.0</td>\n",
       "      <td>403.0</td>\n",
       "      <td>4.7917</td>\n",
       "      <td>0.338940</td>\n",
       "      <td>0.366695</td>\n",
       "      <td>5.518349</td>\n",
       "      <td>5.970223</td>\n",
       "      <td>1.081886</td>\n",
       "    </tr>\n",
       "    <tr>\n",
       "      <th>17192</th>\n",
       "      <td>-119.77</td>\n",
       "      <td>34.44</td>\n",
       "      <td>24.0</td>\n",
       "      <td>5652.0</td>\n",
       "      <td>1313.0</td>\n",
       "      <td>2312.0</td>\n",
       "      <td>1294.0</td>\n",
       "      <td>2.4717</td>\n",
       "      <td>0.559689</td>\n",
       "      <td>0.567907</td>\n",
       "      <td>4.304646</td>\n",
       "      <td>4.367852</td>\n",
       "      <td>1.014683</td>\n",
       "    </tr>\n",
       "    <tr>\n",
       "      <th>18454</th>\n",
       "      <td>-121.78</td>\n",
       "      <td>37.23</td>\n",
       "      <td>18.0</td>\n",
       "      <td>1747.0</td>\n",
       "      <td>317.0</td>\n",
       "      <td>1055.0</td>\n",
       "      <td>285.0</td>\n",
       "      <td>5.8980</td>\n",
       "      <td>0.270142</td>\n",
       "      <td>0.300474</td>\n",
       "      <td>5.511041</td>\n",
       "      <td>6.129825</td>\n",
       "      <td>1.112281</td>\n",
       "    </tr>\n",
       "  </tbody>\n",
       "</table>\n",
       "</div>"
      ],
      "text/plain": [
       "       longitude  latitude  housing_median_age  total_rooms  total_bedrooms  \\\n",
       "16980    -122.30     37.57                36.0       2406.0           436.0   \n",
       "17192    -119.77     34.44                24.0       5652.0          1313.0   \n",
       "18454    -121.78     37.23                18.0       1747.0           317.0   \n",
       "\n",
       "       population  households  median_income  houses/pop  bedrooms/pop  \\\n",
       "16980      1189.0       403.0         4.7917    0.338940      0.366695   \n",
       "17192      2312.0      1294.0         2.4717    0.559689      0.567907   \n",
       "18454      1055.0       285.0         5.8980    0.270142      0.300474   \n",
       "\n",
       "       non_bedrooms  rooms/houses  bedrooms/houses  \n",
       "16980      5.518349      5.970223         1.081886  \n",
       "17192      4.304646      4.367852         1.014683  \n",
       "18454      5.511041      6.129825         1.112281  "
      ]
     },
     "execution_count": 84,
     "metadata": {},
     "output_type": "execute_result"
    }
   ],
   "source": [
    "#more features\n",
    "X_train['houses/pop'] = X_train['households']/X_train['population']\n",
    "X_test['houses/pop'] = X_test['households']/X_test['population']\n",
    "\n",
    "X_train['bedrooms/pop'] = X_train['total_bedrooms']/X_train['population']\n",
    "X_test['bedrooms/pop'] = X_test['total_bedrooms']/X_test['population']\n",
    "\n",
    "X_train['non_bedrooms'] = X_train['total_rooms']/X_train['total_bedrooms']\n",
    "X_test['non_bedrooms'] = X_test['total_rooms']/X_test['total_bedrooms']\n",
    "\n",
    "X_train['rooms/houses'] = X_train['total_rooms']/X_train['households']\n",
    "X_test['rooms/houses'] = X_test['total_rooms']/X_test['households']\n",
    "\n",
    "X_train['bedrooms/houses'] = X_train['total_bedrooms']/X_train['households']\n",
    "X_test['bedrooms/houses'] = X_test['total_bedrooms']/X_test['households']\n",
    "\n",
    "#X_train['non-bedrooms/houses'] = X_train['non_bedroom']/X_train['households']\n",
    "#X_test['non-bedrooms/houses'] = X_test['non_bedroom']/X_test['households']\n",
    "#X_train.corr()\n",
    "\n",
    "X_train.shape, X_test.shape, y_train.shape, y_test.shape\n",
    "X_train.head(3)"
   ]
  },
  {
   "cell_type": "code",
   "execution_count": 38,
   "metadata": {},
   "outputs": [
    {
     "name": "stdout",
     "output_type": "stream",
     "text": [
      "Random Forest model RMSE (test) :51990.31076677708\n",
      "R2 score (test) :0.739345856866303\n"
     ]
    }
   ],
   "source": [
    "# for random forest model\n",
    "forest_model2 = RandomForestRegressor(random_state=112)\n",
    "forest_model2.fit(X_train, y_train)\n",
    "\n",
    "y_forest_pred2 = forest_model2.predict(X_test)\n",
    "rmse_forest_test2 = mean_squared_error(y_forest_pred2, y_test)**0.5\n",
    "print(\"Random Forest model RMSE (test) :\" + str(rmse_forest_test2))\n",
    "print(\"R2 score (test) :\" + str(r2_score(y_forest_pred2, y_test)))"
   ]
  },
  {
   "cell_type": "code",
   "execution_count": 39,
   "metadata": {},
   "outputs": [
    {
     "name": "stdout",
     "output_type": "stream",
     "text": [
      "Linear model RMSE (test) :67500.98120074389\n",
      "R2 score (test) :0.500568295868998\n"
     ]
    }
   ],
   "source": [
    "# for linear regression model\n",
    "model2 = LinearRegression()\n",
    "model2.fit(X_train, y_train)\n",
    "\n",
    "#print(\"intercept : \", model2.intercept_)\n",
    "coef = pd.DataFrame(list(zip(X_train, model.coef_)))\n",
    "coef.columns = ['features', 'coef']\n",
    "coef\n",
    "\n",
    "y_pred2 = model2.predict(X_test)\n",
    "rmse_test2 = mean_squared_error(y_pred2, y_test)**0.5\n",
    "print(\"Linear model RMSE (test) :\" + str(rmse_test2))\n",
    "print(\"R2 score (test) :\" + str(r2_score(y_pred2, y_test)))"
   ]
  },
  {
   "cell_type": "markdown",
   "metadata": {},
   "source": [
    "Adding more features : houses/pop, bedrooms/pop, non-bedrooms, rooms/houses, bedrooms/houses\n",
    "\n",
    "*Random forest model*\n",
    "\n",
    "before adding => RMSE=50200, R2 = 76.14% \\\n",
    "after adding  => RMSE=51990, R2 = 73.93% \n",
    "\n",
    "RMSE before adding features is lower than RMSE after adding more features. \\\n",
    "R2 before adding features is higher than R2 after adding more features. \\\n",
    "Adding more features decreases Random forest model performance.\n",
    "\n",
    "\n",
    "\n",
    "\n",
    "\n",
    "*Linear regression model*\n",
    "\n",
    "before adding => RMSE=71419, R2 = 41.72% \\\n",
    "after adding  => RMSE=67501, R2 = 50.05% \n",
    "\n",
    "RMSE before adding more features is higher than RMSE after adding more features. \\\n",
    "R2 before adding more features is lower than R2 after adding more features. \\\n",
    "Adding more features increases Linear regression model performance. "
   ]
  },
  {
   "cell_type": "code",
   "execution_count": 87,
   "metadata": {},
   "outputs": [
    {
     "data": {
      "image/png": "[encoded data removed]",
      "text/plain": [
       "<Figure size 432x288 with 1 Axes>"
      ]
     },
     "metadata": {
      "needs_background": "light"
     },
     "output_type": "display_data"
    }
   ],
   "source": [
    "forest_model2.feature_importances_\n",
    "sort  = forest_model2.feature_importances_.argsort()\n",
    "plt.barh(X_train.columns[sort], forest_model2.feature_importances_[sort],color='Pink')\n",
    "plt.xlabel(\"Features importances\")\n",
    "plt.title(\"Feature importance for predict housing price\")\n",
    "#plt.grid()\n",
    "plt.show()"
   ]
  }
 ],
 "metadata": {
  "kernelspec": {
   "display_name": "Python 3",
   "language": "python",
   "name": "python3"
  },
  "language_info": {
   "codemirror_mode": {
    "name": "ipython",
    "version": 3
   },
   "file_extension": ".py",
   "mimetype": "text/x-python",
   "name": "python",
   "nbconvert_exporter": "python",
   "pygments_lexer": "ipython3",
   "version": "3.8.3"
  }
 },
 "nbformat": 4,
 "nbformat_minor": 4
}
